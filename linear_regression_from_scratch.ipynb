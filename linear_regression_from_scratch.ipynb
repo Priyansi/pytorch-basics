{
  "nbformat": 4,
  "nbformat_minor": 0,
  "metadata": {
    "colab": {
      "name": "linear-regression-from-scratch.ipynb",
      "provenance": [],
      "collapsed_sections": [],
      "toc_visible": true
    },
    "kernelspec": {
      "name": "python3",
      "display_name": "Python 3"
    }
  },
  "cells": [
    {
      "cell_type": "code",
      "metadata": {
        "id": "-B1RFV8PQjNg",
        "colab_type": "code",
        "colab": {}
      },
      "source": [
        "# Importing necessary libraries\n",
        "\n",
        "import torch\n",
        "import pandas as pd"
      ],
      "execution_count": 0,
      "outputs": []
    },
    {
      "cell_type": "markdown",
      "metadata": {
        "id": "7QARVJJptWn8",
        "colab_type": "text"
      },
      "source": [
        "Refer https://www.kaggle.com/general/74235 to find out how to generate a Kaggle API key."
      ]
    },
    {
      "cell_type": "code",
      "metadata": {
        "id": "RSDQYWaFT8q-",
        "colab_type": "code",
        "colab": {}
      },
      "source": [
        "! pip install -q kaggle"
      ],
      "execution_count": 0,
      "outputs": []
    },
    {
      "cell_type": "code",
      "metadata": {
        "id": "q3E4G-lmUCat",
        "colab_type": "code",
        "colab": {}
      },
      "source": [
        "from google.colab import files"
      ],
      "execution_count": 0,
      "outputs": []
    },
    {
      "cell_type": "code",
      "metadata": {
        "id": "EXPkA22FURYN",
        "colab_type": "code",
        "colab": {
          "resources": {
            "http://localhost:8080/nbextensions/google.colab/files.js": {
              "data": "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",
              "ok": true,
              "headers": [
                [
                  "content-type",
                  "application/javascript"
                ]
              ],
              "status": 200,
              "status_text": ""
            }
          },
          "base_uri": "https://localhost:8080/",
          "height": 93
        },
        "outputId": "f8043559-45fd-4132-c371-80d879142674"
      },
      "source": [
        "files.upload()"
      ],
      "execution_count": 4,
      "outputs": [
        {
          "output_type": "display_data",
          "data": {
            "text/html": [
              "\n",
              "     <input type=\"file\" id=\"files-9086fb4d-ccde-44f1-92aa-cb45eec87b27\" name=\"files[]\" multiple disabled />\n",
              "     <output id=\"result-9086fb4d-ccde-44f1-92aa-cb45eec87b27\">\n",
              "      Upload widget is only available when the cell has been executed in the\n",
              "      current browser session. Please rerun this cell to enable.\n",
              "      </output>\n",
              "      <script src=\"/nbextensions/google.colab/files.js\"></script> "
            ],
            "text/plain": [
              "<IPython.core.display.HTML object>"
            ]
          },
          "metadata": {
            "tags": []
          }
        },
        {
          "output_type": "stream",
          "text": [
            "Saving kaggle (1).json to kaggle (1).json\n"
          ],
          "name": "stdout"
        },
        {
          "output_type": "execute_result",
          "data": {
            "text/plain": [
              "{'kaggle (1).json': b'{\"username\":\"iiverveii\",\"key\":\"6f1b8e878dba0ffd154a133c58cbe9c6\"}'}"
            ]
          },
          "metadata": {
            "tags": []
          },
          "execution_count": 4
        }
      ]
    },
    {
      "cell_type": "code",
      "metadata": {
        "id": "UKKKYbQ7Ue-g",
        "colab_type": "code",
        "colab": {
          "base_uri": "https://localhost:8080/",
          "height": 35
        },
        "outputId": "3234b39d-4a35-4cfb-86ad-7a3649d2cbab"
      },
      "source": [
        "! mkdir ~/.kaggle\n",
        "! cp kaggle.json ~/.kaggle/"
      ],
      "execution_count": 9,
      "outputs": [
        {
          "output_type": "stream",
          "text": [
            "mkdir: cannot create directory ‘/root/.kaggle’: File exists\n"
          ],
          "name": "stdout"
        }
      ]
    },
    {
      "cell_type": "code",
      "metadata": {
        "id": "viYwHdfqUwnY",
        "colab_type": "code",
        "colab": {}
      },
      "source": [
        "! chmod 600 ~/.kaggle/kaggle.json"
      ],
      "execution_count": 0,
      "outputs": []
    },
    {
      "cell_type": "code",
      "metadata": {
        "id": "8hmAA55LU5Xg",
        "colab_type": "code",
        "colab": {
          "base_uri": "https://localhost:8080/",
          "height": 69
        },
        "outputId": "dfbc5f9e-56d9-4fe7-b2ea-9c813a6e3e10"
      },
      "source": [
        "# Downloading a linear regression dataset from Kaggle\n",
        "\n",
        "! kaggle datasets download -d aungpyaeap/fish-market"
      ],
      "execution_count": 11,
      "outputs": [
        {
          "output_type": "stream",
          "text": [
            "Downloading fish-market.zip to /content\n",
            "\r  0% 0.00/2.39k [00:00<?, ?B/s]\n",
            "\r100% 2.39k/2.39k [00:00<00:00, 5.17MB/s]\n"
          ],
          "name": "stdout"
        }
      ]
    },
    {
      "cell_type": "code",
      "metadata": {
        "id": "IdqXG1GzU8Tk",
        "colab_type": "code",
        "colab": {
          "base_uri": "https://localhost:8080/",
          "height": 52
        },
        "outputId": "75028171-c69e-466d-b08c-f8cbf7ef0d94"
      },
      "source": [
        "! unzip fish-market.zip"
      ],
      "execution_count": 12,
      "outputs": [
        {
          "output_type": "stream",
          "text": [
            "Archive:  fish-market.zip\n",
            "  inflating: Fish.csv                \n"
          ],
          "name": "stdout"
        }
      ]
    },
    {
      "cell_type": "code",
      "metadata": {
        "id": "nHBAT3A4V0Wc",
        "colab_type": "code",
        "colab": {
          "base_uri": "https://localhost:8080/",
          "height": 202
        },
        "outputId": "29023004-1a53-4cce-cee8-8d234572f2ac"
      },
      "source": [
        "# Converting a CSV file to a Pandas dataframe\n",
        "\n",
        "dataframe = pd.read_csv('Fish.csv').drop('Species', axis=1)\n",
        "dataframe.head()"
      ],
      "execution_count": 225,
      "outputs": [
        {
          "output_type": "execute_result",
          "data": {
            "text/html": [
              "<div>\n",
              "<style scoped>\n",
              "    .dataframe tbody tr th:only-of-type {\n",
              "        vertical-align: middle;\n",
              "    }\n",
              "\n",
              "    .dataframe tbody tr th {\n",
              "        vertical-align: top;\n",
              "    }\n",
              "\n",
              "    .dataframe thead th {\n",
              "        text-align: right;\n",
              "    }\n",
              "</style>\n",
              "<table border=\"1\" class=\"dataframe\">\n",
              "  <thead>\n",
              "    <tr style=\"text-align: right;\">\n",
              "      <th></th>\n",
              "      <th>Weight</th>\n",
              "      <th>Length1</th>\n",
              "      <th>Length2</th>\n",
              "      <th>Length3</th>\n",
              "      <th>Height</th>\n",
              "      <th>Width</th>\n",
              "    </tr>\n",
              "  </thead>\n",
              "  <tbody>\n",
              "    <tr>\n",
              "      <th>0</th>\n",
              "      <td>242.0</td>\n",
              "      <td>23.2</td>\n",
              "      <td>25.4</td>\n",
              "      <td>30.0</td>\n",
              "      <td>11.5200</td>\n",
              "      <td>4.0200</td>\n",
              "    </tr>\n",
              "    <tr>\n",
              "      <th>1</th>\n",
              "      <td>290.0</td>\n",
              "      <td>24.0</td>\n",
              "      <td>26.3</td>\n",
              "      <td>31.2</td>\n",
              "      <td>12.4800</td>\n",
              "      <td>4.3056</td>\n",
              "    </tr>\n",
              "    <tr>\n",
              "      <th>2</th>\n",
              "      <td>340.0</td>\n",
              "      <td>23.9</td>\n",
              "      <td>26.5</td>\n",
              "      <td>31.1</td>\n",
              "      <td>12.3778</td>\n",
              "      <td>4.6961</td>\n",
              "    </tr>\n",
              "    <tr>\n",
              "      <th>3</th>\n",
              "      <td>363.0</td>\n",
              "      <td>26.3</td>\n",
              "      <td>29.0</td>\n",
              "      <td>33.5</td>\n",
              "      <td>12.7300</td>\n",
              "      <td>4.4555</td>\n",
              "    </tr>\n",
              "    <tr>\n",
              "      <th>4</th>\n",
              "      <td>430.0</td>\n",
              "      <td>26.5</td>\n",
              "      <td>29.0</td>\n",
              "      <td>34.0</td>\n",
              "      <td>12.4440</td>\n",
              "      <td>5.1340</td>\n",
              "    </tr>\n",
              "  </tbody>\n",
              "</table>\n",
              "</div>"
            ],
            "text/plain": [
              "   Weight  Length1  Length2  Length3   Height   Width\n",
              "0   242.0     23.2     25.4     30.0  11.5200  4.0200\n",
              "1   290.0     24.0     26.3     31.2  12.4800  4.3056\n",
              "2   340.0     23.9     26.5     31.1  12.3778  4.6961\n",
              "3   363.0     26.3     29.0     33.5  12.7300  4.4555\n",
              "4   430.0     26.5     29.0     34.0  12.4440  5.1340"
            ]
          },
          "metadata": {
            "tags": []
          },
          "execution_count": 225
        }
      ]
    },
    {
      "cell_type": "code",
      "metadata": {
        "id": "cdvxg2nQXhzz",
        "colab_type": "code",
        "colab": {
          "base_uri": "https://localhost:8080/",
          "height": 35
        },
        "outputId": "5899060b-f1cb-46a1-a9fe-0a9f1c4904e4"
      },
      "source": [
        "# Creating arrays from the dataframe\n",
        "\n",
        "inputs = dataframe.drop('Weight', axis = 1).values\n",
        "target = dataframe[['Weight']].values\n",
        "inputs.shape, target.shape"
      ],
      "execution_count": 226,
      "outputs": [
        {
          "output_type": "execute_result",
          "data": {
            "text/plain": [
              "((159, 5), (159, 1))"
            ]
          },
          "metadata": {
            "tags": []
          },
          "execution_count": 226
        }
      ]
    },
    {
      "cell_type": "code",
      "metadata": {
        "id": "wr7FP--QKr3I",
        "colab_type": "code",
        "colab": {
          "base_uri": "https://localhost:8080/",
          "height": 35
        },
        "outputId": "5591b06d-13ec-4ed5-8af3-9091e0394f0a"
      },
      "source": [
        "num_cols = len(dataframe.drop('Weight', axis = 1).columns)\n",
        "num_cols"
      ],
      "execution_count": 227,
      "outputs": [
        {
          "output_type": "execute_result",
          "data": {
            "text/plain": [
              "5"
            ]
          },
          "metadata": {
            "tags": []
          },
          "execution_count": 227
        }
      ]
    },
    {
      "cell_type": "code",
      "metadata": {
        "id": "SPzF6eSPIzA4",
        "colab_type": "code",
        "colab": {
          "base_uri": "https://localhost:8080/",
          "height": 35
        },
        "outputId": "16fdb145-d946-40ff-f0a8-432fca00f99d"
      },
      "source": [
        "# Converting inputs and the output to a PyTorch's tensors\n",
        "inputs = torch.from_numpy(inputs)\n",
        "target = torch.from_numpy(target)\n",
        "inputs.dtype"
      ],
      "execution_count": 228,
      "outputs": [
        {
          "output_type": "execute_result",
          "data": {
            "text/plain": [
              "torch.float64"
            ]
          },
          "metadata": {
            "tags": []
          },
          "execution_count": 228
        }
      ]
    },
    {
      "cell_type": "code",
      "metadata": {
        "id": "Ozz-xbv0JWCS",
        "colab_type": "code",
        "colab": {
          "base_uri": "https://localhost:8080/",
          "height": 69
        },
        "outputId": "b90ec405-c1b1-4054-c0e4-e34ef7975c88"
      },
      "source": [
        "# Generating random weights and biases\n",
        "\n",
        "weights = torch.randn(1, num_cols, requires_grad = True, dtype = torch.float64)\n",
        "biases = torch.randn(1, requires_grad = True, dtype = torch.float64)\n",
        "weights, biases"
      ],
      "execution_count": 229,
      "outputs": [
        {
          "output_type": "execute_result",
          "data": {
            "text/plain": [
              "(tensor([[-1.6104, -0.7474, -0.0821,  1.0922,  0.0979]], dtype=torch.float64,\n",
              "        requires_grad=True),\n",
              " tensor([0.2544], dtype=torch.float64, requires_grad=True))"
            ]
          },
          "metadata": {
            "tags": []
          },
          "execution_count": 229
        }
      ]
    },
    {
      "cell_type": "code",
      "metadata": {
        "id": "95iom_-APOMh",
        "colab_type": "code",
        "colab": {}
      },
      "source": [
        "# Decide learning rate\n",
        "learning_rate = 3e-4"
      ],
      "execution_count": 0,
      "outputs": []
    },
    {
      "cell_type": "code",
      "metadata": {
        "id": "HLic8IBpQz_R",
        "colab_type": "code",
        "colab": {}
      },
      "source": [
        "# Train for some epochs\n",
        "def train(epochs, inputs, target, weights, biases):\n",
        "  # Simple matrix multiplication\n",
        "  def model(x):\n",
        "    return x @ weights.t() + biases\n",
        "\n",
        "  # Loss function calculates mean squared error\n",
        "  def mse_loss(t1, t2):\n",
        "    return torch.sum((t1 - t2) ** 2) / t1.numel()\n",
        "\n",
        "  for epoch in range(1, epochs+1):\n",
        "    # Generate predictions\n",
        "    predictions = model(inputs)\n",
        "\n",
        "    # Calculate loss\n",
        "    loss = mse_loss(predictions, target)\n",
        "\n",
        "    # Print loss\n",
        "    if (epoch) % 20 == 0:\n",
        "      print('Epoch {} : Loss : {}'.format(epoch, loss))\n",
        "\n",
        "    # Compute gradients\n",
        "    loss.backward()\n",
        "\n",
        "    # Adjust weights and reset gradients\n",
        "    with torch.no_grad():\n",
        "      weights -= weights.grad * learning_rate\n",
        "      biases -= biases.grad * learning_rate\n",
        "      weights.grad.zero_()\n",
        "      biases.grad.zero_()"
      ],
      "execution_count": 0,
      "outputs": []
    },
    {
      "cell_type": "code",
      "metadata": {
        "id": "m8pVPbuyRi0_",
        "colab_type": "code",
        "colab": {
          "base_uri": "https://localhost:8080/",
          "height": 277
        },
        "outputId": "840adf51-7f78-46c3-f5d6-7c0b2a0e8010"
      },
      "source": [
        "# Train model\n",
        "train(300, inputs, target, weights, biases)"
      ],
      "execution_count": 243,
      "outputs": [
        {
          "output_type": "stream",
          "text": [
            "Epoch 20 : Loss : 43280.9778294256\n",
            "Epoch 40 : Loss : 43185.436902032\n",
            "Epoch 60 : Loss : 43090.296813099405\n",
            "Epoch 80 : Loss : 42995.55468705417\n",
            "Epoch 100 : Loss : 42901.207721522296\n",
            "Epoch 120 : Loss : 42807.25317677296\n",
            "Epoch 140 : Loss : 42713.6883675589\n",
            "Epoch 160 : Loss : 42620.510656788465\n",
            "Epoch 180 : Loss : 42527.71745059843\n",
            "Epoch 200 : Loss : 42435.30619449789\n",
            "Epoch 220 : Loss : 42343.27437033204\n",
            "Epoch 240 : Loss : 42251.61949387291\n",
            "Epoch 260 : Loss : 42160.33911289129\n",
            "Epoch 280 : Loss : 42069.43080559659\n",
            "Epoch 300 : Loss : 41978.89217935966\n"
          ],
          "name": "stdout"
        }
      ]
    },
    {
      "cell_type": "code",
      "metadata": {
        "id": "mSuHYj_jr1d6",
        "colab_type": "code",
        "colab": {
          "base_uri": "https://localhost:8080/",
          "height": 1000
        },
        "outputId": "845bc1ac-9fbe-4f34-ceae-5cc72f891c13"
      },
      "source": [
        "# Get final predictions\n",
        "\n",
        "predictions = model(inputs)\n",
        "predictions"
      ],
      "execution_count": 244,
      "outputs": [
        {
          "output_type": "execute_result",
          "data": {
            "text/plain": [
              "tensor([[428.9061],\n",
              "        [451.3175],\n",
              "        [452.5279],\n",
              "        [490.9221],\n",
              "        [490.0836],\n",
              "        [507.8457],\n",
              "        [517.1240],\n",
              "        [506.5316],\n",
              "        [522.1837],\n",
              "        [535.5873],\n",
              "        [537.6008],\n",
              "        [541.4156],\n",
              "        [540.0524],\n",
              "        [548.4645],\n",
              "        [560.3274],\n",
              "        [567.6454],\n",
              "        [573.5304],\n",
              "        [572.9689],\n",
              "        [590.2239],\n",
              "        [579.8197],\n",
              "        [589.8543],\n",
              "        [602.0386],\n",
              "        [598.3888],\n",
              "        [603.7283],\n",
              "        [612.3159],\n",
              "        [612.1519],\n",
              "        [616.4731],\n",
              "        [628.5121],\n",
              "        [634.9707],\n",
              "        [671.4011],\n",
              "        [681.0267],\n",
              "        [682.0713],\n",
              "        [706.9775],\n",
              "        [728.4066],\n",
              "        [719.2019],\n",
              "        [199.4475],\n",
              "        [267.8987],\n",
              "        [283.4204],\n",
              "        [295.6558],\n",
              "        [310.7585],\n",
              "        [318.2658],\n",
              "        [316.6847],\n",
              "        [317.5570],\n",
              "        [330.2064],\n",
              "        [342.4970],\n",
              "        [346.4763],\n",
              "        [346.6909],\n",
              "        [348.1296],\n",
              "        [371.7451],\n",
              "        [361.9685],\n",
              "        [371.0557],\n",
              "        [391.8163],\n",
              "        [418.8855],\n",
              "        [428.5854],\n",
              "        [508.4428],\n",
              "        [409.8633],\n",
              "        [413.7635],\n",
              "        [444.4941],\n",
              "        [515.9330],\n",
              "        [601.9281],\n",
              "        [658.7685],\n",
              "        [241.4862],\n",
              "        [249.2357],\n",
              "        [288.4151],\n",
              "        [317.2831],\n",
              "        [337.2444],\n",
              "        [341.3773],\n",
              "        [351.8682],\n",
              "        [365.7570],\n",
              "        [394.1659],\n",
              "        [429.9652],\n",
              "        [447.9849],\n",
              "        [103.3335],\n",
              "        [191.4576],\n",
              "        [215.3827],\n",
              "        [242.4267],\n",
              "        [254.1295],\n",
              "        [269.9204],\n",
              "        [280.4307],\n",
              "        [288.0172],\n",
              "        [290.7797],\n",
              "        [295.9077],\n",
              "        [315.3642],\n",
              "        [316.9764],\n",
              "        [315.8248],\n",
              "        [327.6621],\n",
              "        [334.0161],\n",
              "        [329.0130],\n",
              "        [334.4971],\n",
              "        [331.7550],\n",
              "        [329.5660],\n",
              "        [339.1307],\n",
              "        [350.0523],\n",
              "        [343.1663],\n",
              "        [338.8924],\n",
              "        [358.8174],\n",
              "        [377.8796],\n",
              "        [367.5857],\n",
              "        [381.2397],\n",
              "        [382.1432],\n",
              "        [393.7746],\n",
              "        [420.3271],\n",
              "        [442.4648],\n",
              "        [428.5709],\n",
              "        [427.2221],\n",
              "        [430.8663],\n",
              "        [442.8493],\n",
              "        [455.6723],\n",
              "        [469.1992],\n",
              "        [543.7193],\n",
              "        [565.4106],\n",
              "        [591.0811],\n",
              "        [600.6487],\n",
              "        [597.1088],\n",
              "        [605.4038],\n",
              "        [604.5470],\n",
              "        [642.7217],\n",
              "        [636.6204],\n",
              "        [659.0454],\n",
              "        [657.8500],\n",
              "        [656.1555],\n",
              "        [665.2747],\n",
              "        [648.0215],\n",
              "        [695.3979],\n",
              "        [701.0599],\n",
              "        [710.4669],\n",
              "        [716.7190],\n",
              "        [724.7549],\n",
              "        [466.4494],\n",
              "        [488.5403],\n",
              "        [506.5187],\n",
              "        [546.9245],\n",
              "        [570.9594],\n",
              "        [565.2658],\n",
              "        [631.7639],\n",
              "        [627.0136],\n",
              "        [644.2937],\n",
              "        [660.1162],\n",
              "        [688.2515],\n",
              "        [710.0390],\n",
              "        [777.4609],\n",
              "        [854.0543],\n",
              "        [893.8125],\n",
              "        [893.8125],\n",
              "        [954.0310],\n",
              "        [119.2976],\n",
              "        [131.9941],\n",
              "        [131.0962],\n",
              "        [142.0097],\n",
              "        [143.2868],\n",
              "        [142.9792],\n",
              "        [152.9158],\n",
              "        [152.4332],\n",
              "        [154.4367],\n",
              "        [155.7427],\n",
              "        [162.6256],\n",
              "        [168.5887],\n",
              "        [194.5194],\n",
              "        [201.6067]], dtype=torch.float64, grad_fn=<AddBackward0>)"
            ]
          },
          "metadata": {
            "tags": []
          },
          "execution_count": 244
        }
      ]
    },
    {
      "cell_type": "code",
      "metadata": {
        "id": "XUz9gSekr6YN",
        "colab_type": "code",
        "colab": {
          "base_uri": "https://localhost:8080/",
          "height": 1000
        },
        "outputId": "de6ba2a8-cbf5-4fae-8f80-3b14b447d82d"
      },
      "source": [
        "target"
      ],
      "execution_count": 245,
      "outputs": [
        {
          "output_type": "execute_result",
          "data": {
            "text/plain": [
              "tensor([[ 242.0000],\n",
              "        [ 290.0000],\n",
              "        [ 340.0000],\n",
              "        [ 363.0000],\n",
              "        [ 430.0000],\n",
              "        [ 450.0000],\n",
              "        [ 500.0000],\n",
              "        [ 390.0000],\n",
              "        [ 450.0000],\n",
              "        [ 500.0000],\n",
              "        [ 475.0000],\n",
              "        [ 500.0000],\n",
              "        [ 500.0000],\n",
              "        [ 340.0000],\n",
              "        [ 600.0000],\n",
              "        [ 600.0000],\n",
              "        [ 700.0000],\n",
              "        [ 700.0000],\n",
              "        [ 610.0000],\n",
              "        [ 650.0000],\n",
              "        [ 575.0000],\n",
              "        [ 685.0000],\n",
              "        [ 620.0000],\n",
              "        [ 680.0000],\n",
              "        [ 700.0000],\n",
              "        [ 725.0000],\n",
              "        [ 720.0000],\n",
              "        [ 714.0000],\n",
              "        [ 850.0000],\n",
              "        [1000.0000],\n",
              "        [ 920.0000],\n",
              "        [ 955.0000],\n",
              "        [ 925.0000],\n",
              "        [ 975.0000],\n",
              "        [ 950.0000],\n",
              "        [  40.0000],\n",
              "        [  69.0000],\n",
              "        [  78.0000],\n",
              "        [  87.0000],\n",
              "        [ 120.0000],\n",
              "        [   0.0000],\n",
              "        [ 110.0000],\n",
              "        [ 120.0000],\n",
              "        [ 150.0000],\n",
              "        [ 145.0000],\n",
              "        [ 160.0000],\n",
              "        [ 140.0000],\n",
              "        [ 160.0000],\n",
              "        [ 169.0000],\n",
              "        [ 161.0000],\n",
              "        [ 200.0000],\n",
              "        [ 180.0000],\n",
              "        [ 290.0000],\n",
              "        [ 272.0000],\n",
              "        [ 390.0000],\n",
              "        [ 270.0000],\n",
              "        [ 270.0000],\n",
              "        [ 306.0000],\n",
              "        [ 540.0000],\n",
              "        [ 800.0000],\n",
              "        [1000.0000],\n",
              "        [  55.0000],\n",
              "        [  60.0000],\n",
              "        [  90.0000],\n",
              "        [ 120.0000],\n",
              "        [ 150.0000],\n",
              "        [ 140.0000],\n",
              "        [ 170.0000],\n",
              "        [ 145.0000],\n",
              "        [ 200.0000],\n",
              "        [ 273.0000],\n",
              "        [ 300.0000],\n",
              "        [   5.9000],\n",
              "        [  32.0000],\n",
              "        [  40.0000],\n",
              "        [  51.5000],\n",
              "        [  70.0000],\n",
              "        [ 100.0000],\n",
              "        [  78.0000],\n",
              "        [  80.0000],\n",
              "        [  85.0000],\n",
              "        [  85.0000],\n",
              "        [ 110.0000],\n",
              "        [ 115.0000],\n",
              "        [ 125.0000],\n",
              "        [ 130.0000],\n",
              "        [ 120.0000],\n",
              "        [ 120.0000],\n",
              "        [ 130.0000],\n",
              "        [ 135.0000],\n",
              "        [ 110.0000],\n",
              "        [ 130.0000],\n",
              "        [ 150.0000],\n",
              "        [ 145.0000],\n",
              "        [ 150.0000],\n",
              "        [ 170.0000],\n",
              "        [ 225.0000],\n",
              "        [ 145.0000],\n",
              "        [ 188.0000],\n",
              "        [ 180.0000],\n",
              "        [ 197.0000],\n",
              "        [ 218.0000],\n",
              "        [ 300.0000],\n",
              "        [ 260.0000],\n",
              "        [ 265.0000],\n",
              "        [ 250.0000],\n",
              "        [ 250.0000],\n",
              "        [ 300.0000],\n",
              "        [ 320.0000],\n",
              "        [ 514.0000],\n",
              "        [ 556.0000],\n",
              "        [ 840.0000],\n",
              "        [ 685.0000],\n",
              "        [ 700.0000],\n",
              "        [ 700.0000],\n",
              "        [ 690.0000],\n",
              "        [ 900.0000],\n",
              "        [ 650.0000],\n",
              "        [ 820.0000],\n",
              "        [ 850.0000],\n",
              "        [ 900.0000],\n",
              "        [1015.0000],\n",
              "        [ 820.0000],\n",
              "        [1100.0000],\n",
              "        [1000.0000],\n",
              "        [1100.0000],\n",
              "        [1000.0000],\n",
              "        [1000.0000],\n",
              "        [ 200.0000],\n",
              "        [ 300.0000],\n",
              "        [ 300.0000],\n",
              "        [ 300.0000],\n",
              "        [ 430.0000],\n",
              "        [ 345.0000],\n",
              "        [ 456.0000],\n",
              "        [ 510.0000],\n",
              "        [ 540.0000],\n",
              "        [ 500.0000],\n",
              "        [ 567.0000],\n",
              "        [ 770.0000],\n",
              "        [ 950.0000],\n",
              "        [1250.0000],\n",
              "        [1600.0000],\n",
              "        [1550.0000],\n",
              "        [1650.0000],\n",
              "        [   6.7000],\n",
              "        [   7.5000],\n",
              "        [   7.0000],\n",
              "        [   9.7000],\n",
              "        [   9.8000],\n",
              "        [   8.7000],\n",
              "        [  10.0000],\n",
              "        [   9.9000],\n",
              "        [   9.8000],\n",
              "        [  12.2000],\n",
              "        [  13.4000],\n",
              "        [  12.2000],\n",
              "        [  19.7000],\n",
              "        [  19.9000]], dtype=torch.float64)"
            ]
          },
          "metadata": {
            "tags": []
          },
          "execution_count": 245
        }
      ]
    },
    {
      "cell_type": "markdown",
      "metadata": {
        "id": "O0SiTe7qslm0",
        "colab_type": "text"
      },
      "source": [
        "Clearly, the simple model did not work. Therefore we have to look for a different way."
      ]
    },
    {
      "cell_type": "code",
      "metadata": {
        "id": "RqkAxb6NszHz",
        "colab_type": "code",
        "colab": {}
      },
      "source": [
        ""
      ],
      "execution_count": 0,
      "outputs": []
    }
  ]
}